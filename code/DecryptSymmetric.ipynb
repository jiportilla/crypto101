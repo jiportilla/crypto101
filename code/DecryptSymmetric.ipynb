{
 "cells": [
  {
   "cell_type": "markdown",
   "id": "1ab14486",
   "metadata": {},
   "source": [
    "#Symmetric Encription"
   ]
  },
  {
   "cell_type": "code",
   "execution_count": 1,
   "id": "bd6df403",
   "metadata": {},
   "outputs": [],
   "source": [
    "from cryptography.fernet import Fernet\n",
    " \n",
    "# we will be encrypting the message below.\n",
    "message = \"I agree to pay $500 for rent\""
   ]
  },
  {
   "cell_type": "code",
   "execution_count": 3,
   "id": "49c063c8",
   "metadata": {},
   "outputs": [],
   "source": [
    "# Generate a key for encryption and decryption\n",
    "# You can use Fernet to generate\n",
    "# the key or use random key generator\n",
    "# here I am using Fernet to generate a key\n",
    "key = Fernet.generate_key()\n",
    " \n",
    "# Instanciate the Fernet class with the key\n",
    "fernet = Fernet(key)"
   ]
  },
  {
   "cell_type": "code",
   "execution_count": 5,
   "id": "a2d098b0",
   "metadata": {},
   "outputs": [
    {
     "name": "stdout",
     "output_type": "stream",
     "text": [
      "original message :  I agree to pay $500 for rent\n",
      "encrypted message:  b'gAAAAABh7eYrn8RwfeX4zp_azZuz2tTapcl1BXxxg78KVKMszLTrU0YJnlmanxF36II6JLhZt4lggNhge_DHKk_ZyeydrtTFDxa-i3vSkp2enQlOxPfw4bY='\n"
     ]
    }
   ],
   "source": [
    "# Then use the Fernet class instance\n",
    "# to encrypt the string \n",
    "# string must be encoded to byte string before encryption\n",
    "encMessage = fernet.encrypt(message.encode())\n",
    "\n",
    "#encMessage = 'LX0NosPD29TakgZjzvzSgkYeSOwVBV7zRoOnTbAudBGWvdhJQwa7dxF1OHb0A5JlRJs6Av6MohbGsP3EYcwGMA7v2WfxzzGAyz2XrZC39VdxiJNauxMGI1dAUKq8coGge2OAmlm+E4gO7sojYbqJVor3R8K0RJETlY0GHiOyDCU='\n",
    "#encMessage = encMessage.encode()\n",
    "\n",
    "print(\"original message : \", message)\n",
    "print(\"encrypted message: \", encMessage)"
   ]
  },
  {
   "cell_type": "code",
   "execution_count": 6,
   "id": "e362428f",
   "metadata": {},
   "outputs": [
    {
     "name": "stdout",
     "output_type": "stream",
     "text": [
      "decrypted string:  I agree to pay $500 for rent\n"
     ]
    }
   ],
   "source": [
    "# Decrypt the encrypted string with the\n",
    "# Fernet instance of the key\n",
    "# that was used for encrypting the string.\n",
    "# An encoded byte string is returned by the decrypt method,\n",
    "# so decode it back to string with a decode method\n",
    "decMessage = fernet.decrypt(encMessage).decode()\n",
    "print(\"decrypted string: \", decMessage)"
   ]
  },
  {
   "cell_type": "code",
   "execution_count": null,
   "id": "98c22397",
   "metadata": {},
   "outputs": [],
   "source": []
  }
 ],
 "metadata": {
  "kernelspec": {
   "display_name": "Python 3 (ipykernel)",
   "language": "python",
   "name": "python3"
  },
  "language_info": {
   "codemirror_mode": {
    "name": "ipython",
    "version": 3
   },
   "file_extension": ".py",
   "mimetype": "text/x-python",
   "name": "python",
   "nbconvert_exporter": "python",
   "pygments_lexer": "ipython3",
   "version": "3.7.10"
  }
 },
 "nbformat": 4,
 "nbformat_minor": 5
}
